{
  "cells": [
    {
      "cell_type": "markdown",
      "metadata": {},
      "source": [
        "\n# Pathway map for converging pathways\n"
      ]
    },
    {
      "cell_type": "code",
      "execution_count": null,
      "metadata": {
        "collapsed": false
      },
      "outputs": [],
      "source": [
        "from io import StringIO\n\nimport matplotlib.pyplot as plt\n\nfrom adaptation_pathways.graph import read_sequence_graph, sequence_graph_to_pathway_map\nfrom adaptation_pathways.plot import init_axes\nfrom adaptation_pathways.plot import plot_default_pathway_map as plot\n\n\nsequence_graph = read_sequence_graph(\n    StringIO(\n        \"\"\"\ncurrent a\ncurrent b\ncurrent c\na d\nb d\nc d\n\"\"\"\n    )\n)\npathway_map = sequence_graph_to_pathway_map(sequence_graph)\n\n_, axes = plt.subplots(layout=\"constrained\")\ninit_axes(axes)\nplot(axes, pathway_map)\nplt.show()"
      ]
    }
  ],
  "metadata": {
    "kernelspec": {
      "display_name": "Python 3",
      "language": "python",
      "name": "python3"
    },
    "language_info": {
      "codemirror_mode": {
        "name": "ipython",
        "version": 3
      },
      "file_extension": ".py",
      "mimetype": "text/x-python",
      "name": "python",
      "nbconvert_exporter": "python",
      "pygments_lexer": "ipython3",
      "version": "3.10.12"
    }
  },
  "nbformat": 4,
  "nbformat_minor": 0
}