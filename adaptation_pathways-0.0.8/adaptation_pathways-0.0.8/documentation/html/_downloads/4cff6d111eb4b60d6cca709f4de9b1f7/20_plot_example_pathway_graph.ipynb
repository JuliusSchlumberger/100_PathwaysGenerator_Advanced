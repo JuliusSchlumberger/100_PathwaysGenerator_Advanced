{
  "cells": [
    {
      "cell_type": "markdown",
      "metadata": {},
      "source": [
        "\n# Pathway graph for an example\n"
      ]
    },
    {
      "cell_type": "code",
      "execution_count": null,
      "metadata": {
        "collapsed": false
      },
      "outputs": [],
      "source": [
        "from io import StringIO\n\nimport matplotlib.pyplot as plt\n\nfrom adaptation_pathways.graph import (\n    read_sequence_graph,\n    sequence_graph_to_pathway_graph,\n)\nfrom adaptation_pathways.plot import init_axes\nfrom adaptation_pathways.plot import plot_default_pathway_graph as plot\n\n\nsequence_graph = read_sequence_graph(\n    StringIO(\n        \"\"\"\ncurrent a\na e\ncurrent b\nb f\ncurrent c\nc f\ncurrent d\nd f\nf e\n\"\"\"\n    )\n)\npathway_graph = sequence_graph_to_pathway_graph(sequence_graph)\n\n_, axes = plt.subplots(layout=\"constrained\")\ninit_axes(axes)\nplot(axes, pathway_graph)\nplt.show()"
      ]
    }
  ],
  "metadata": {
    "kernelspec": {
      "display_name": "Python 3",
      "language": "python",
      "name": "python3"
    },
    "language_info": {
      "codemirror_mode": {
        "name": "ipython",
        "version": 3
      },
      "file_extension": ".py",
      "mimetype": "text/x-python",
      "name": "python",
      "nbconvert_exporter": "python",
      "pygments_lexer": "ipython3",
      "version": "3.10.12"
    }
  },
  "nbformat": 4,
  "nbformat_minor": 0
}