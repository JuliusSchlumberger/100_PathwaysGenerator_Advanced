{
  "cells": [
    {
      "cell_type": "markdown",
      "metadata": {},
      "source": [
        "\n# Pathway map for an example\n"
      ]
    },
    {
      "cell_type": "code",
      "execution_count": null,
      "metadata": {
        "collapsed": false
      },
      "outputs": [],
      "source": [
        "from io import StringIO\n\nimport matplotlib.pyplot as plt\n\nfrom adaptation_pathways.graph import (\n    action_level_by_first_occurrence,\n    read_sequences,\n    read_tipping_points,\n    sequence_graph_to_pathway_map,\n    sequences_to_sequence_graph,\n)\nfrom adaptation_pathways.plot import init_axes\nfrom adaptation_pathways.plot import plot_classic_pathway_map as plot\n\n\nsequences = read_sequences(\n    StringIO(\n        \"\"\"\ncurrent a\na e\ncurrent b\nb f\ncurrent c\nc f\ncurrent d\nd f\nf e\n\"\"\"\n    )\n)\nsequence_graph = sequences_to_sequence_graph(sequences)\nlevel_by_action = action_level_by_first_occurrence(sequences)\n\npathway_map = sequence_graph_to_pathway_map(sequence_graph)\ntipping_points = read_tipping_points(\n    StringIO(\n        \"\"\"\ncurrent 2030\na 2040\nb 2050\nc 2060\nd 2070\nf 2080\ne 2090\n\"\"\"\n    ),\n    pathway_map.actions(),\n)\n\npathway_map.assign_tipping_points(tipping_points)\npathway_map.set_attribute(\"level\", level_by_action)\n\n_, axes = plt.subplots(layout=\"constrained\")\ninit_axes(axes)\nplot(axes, pathway_map)\nplt.show()"
      ]
    }
  ],
  "metadata": {
    "kernelspec": {
      "display_name": "Python 3",
      "language": "python",
      "name": "python3"
    },
    "language_info": {
      "codemirror_mode": {
        "name": "ipython",
        "version": 3
      },
      "file_extension": ".py",
      "mimetype": "text/x-python",
      "name": "python",
      "nbconvert_exporter": "python",
      "pygments_lexer": "ipython3",
      "version": "3.10.12"
    }
  },
  "nbformat": 4,
  "nbformat_minor": 0
}